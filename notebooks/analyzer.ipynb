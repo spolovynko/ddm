{
 "cells": [
  {
   "cell_type": "code",
   "execution_count": 32,
   "metadata": {},
   "outputs": [
    {
     "name": "stdout",
     "output_type": "stream",
     "text": [
      "Hello my friend John Robertson 12348\n",
      "Hello my friend <PERSON> <DATE_TIME>\n"
     ]
    }
   ],
   "source": [
    "from presidio_analyzer import AnalyzerEngine, RecognizerRegistry, PatternRecognizer, PatternRecognizer, Pattern\n",
    "from presidio_analyzer.nlp_engine import NlpEngineProvider\n",
    "from presidio_anonymizer import AnonymizerEngine\n",
    "\n",
    "text = 'Hello my friend John Robertson 12348'\n",
    "textfr = \"Bonjour, je m'apelle Marie Jean 1234\"\n",
    "configuration = {\n",
    "    \"nlp_engine_name\": \"spacy\",\n",
    "    \"models\": [\n",
    "        {\"lang_code\": \"fr\", \"model_name\": \"fr_core_news_md\"},\n",
    "        {\"lang_code\": \"en\", \"model_name\": \"en_core_web_sm\"},\n",
    "    ],\n",
    "}\n",
    "provider = NlpEngineProvider(nlp_configuration=configuration)\n",
    "fr_provider = provider.create_engine()\n",
    "\n",
    "\n",
    "\n",
    "greet_pattern = PatternRecognizer(supported_entity=\"GREET\",\n",
    "                                      deny_list=[\"Hello\",\"Bonjour\"],\n",
    "                                      supported_language=[\"en\", \"fr\"])\n",
    "numbers = Pattern(name=\"numbers\", regex=\"[0-9]{5}\", score=0.85)\n",
    "number_pattern = PatternRecognizer(supported_entity=\"NUMBERS\",\n",
    "                                      patterns=[numbers],\n",
    "                                      supported_language=[\"en\", \"fr\"])\n",
    "\n",
    "recognizer_regitry = RecognizerRegistry(supported_languages=['en','fr'])\n",
    "recognizer_regitry.load_predefined_recognizers()\n",
    "\n",
    "recognizer_regitry.add_recognizer(greet_pattern)\n",
    "recognizer_regitry.add_recognizer(number_pattern)\n",
    "\n",
    "analyzer = AnalyzerEngine(\n",
    "    registry=recognizer_regitry,\n",
    "    nlp_engine=fr_provider, \n",
    "    supported_languages=['en','fr']\n",
    "    )\n",
    "\n",
    "\n",
    "results = analyzer.analyze(text=text, language='en')\n",
    "anonimyzer = AnonymizerEngine()\n",
    "results = anonimyzer.anonymize(text=text,analyzer_results=results)\n",
    "print(text)\n",
    "print(results.text)\n"
   ]
  },
  {
   "cell_type": "code",
   "execution_count": 5,
   "metadata": {},
   "outputs": [
    {
     "name": "stdout",
     "output_type": "stream",
     "text": [
      "Hello my friend John Robertson 12348\n",
      "<GREET> my friend John Robertson <NUMBERS>\n"
     ]
    }
   ],
   "source": [
    "from presidio_analyzer import AnalyzerEngine, RecognizerRegistry, PatternRecognizer, Pattern\n",
    "from presidio_analyzer.nlp_engine import NlpEngineProvider\n",
    "from presidio_anonymizer import AnonymizerEngine\n",
    "\n",
    "text = 'Hello my friend John Robertson 12348'\n",
    "# textfr = \"Bonjour, je m'apelle Marie Jean 1234\"\n",
    "\n",
    "greet_pattern = PatternRecognizer(supported_entity=\"GREET\",\n",
    "                                      deny_list=[\"Hello\",\"Bonjour\"],\n",
    "                                      supported_language='en')\n",
    "numbers = Pattern(name=\"numbers\", regex=\"[0-9]{5}\", score=0.85)\n",
    "\n",
    "number_pattern = PatternRecognizer(supported_entity=\"NUMBERS\",\n",
    "                                      patterns=[numbers],\n",
    "                                      supported_language='en')\n",
    "\n",
    "recognizer_regitry = RecognizerRegistry(supported_languages='en')\n",
    "\n",
    "recognizer_regitry.add_recognizer(greet_pattern)\n",
    "recognizer_regitry.add_recognizer(number_pattern)\n",
    "\n",
    "analyzer = AnalyzerEngine(\n",
    "    registry=recognizer_regitry,\n",
    "    supported_languages='en'\n",
    "    )\n",
    "\n",
    "\n",
    "results = analyzer.analyze(text=text, language='en')\n",
    "anonimyzer = AnonymizerEngine()\n",
    "results = anonimyzer.anonymize(text=text,analyzer_results=results)\n",
    "print(text)\n",
    "print(results.text)\n"
   ]
  },
  {
   "cell_type": "code",
   "execution_count": 16,
   "metadata": {},
   "outputs": [
    {
     "name": "stdout",
     "output_type": "stream",
     "text": [
      "Bonjour, je m'apelle 58 Marie Guy a Paris 12349\n",
      "Bonjour, je m'apelle 58 <PERSON> a <LOCATION> 12349\n"
     ]
    }
   ],
   "source": [
    "from presidio_analyzer import AnalyzerEngine, RecognizerRegistry, PatternRecognizer, Pattern\n",
    "from presidio_analyzer.nlp_engine import NlpEngineProvider\n",
    "from presidio_anonymizer import AnonymizerEngine\n",
    "\n",
    "# text = 'Hello my friend John Robertson 12348'\n",
    "textfr = \"Bonjour, je m'apelle 58 Marie Guy a Paris 12349\"\n",
    "\n",
    "configuration = {\n",
    "    \"nlp_engine_name\": \"spacy\",\n",
    "    \"models\": [\n",
    "        {\"lang_code\": \"fr\", \"model_name\": \"fr_core_news_md\"},\n",
    "        {\"lang_code\": \"en\", \"model_name\": \"en_core_web_sm\"},\n",
    "    ],\n",
    "}\n",
    "\n",
    "provider = NlpEngineProvider(nlp_configuration=configuration)\n",
    "fr_provider = provider.create_engine()\n",
    "\n",
    "greet_pattern = PatternRecognizer(supported_entity=\"GREET\",\n",
    "                                      deny_list=[\"Hello\",\"Bonjour\"],\n",
    "                                      supported_language='fr')\n",
    "\n",
    "numbers_5 = Pattern(name=\"numbers\", regex=\"[0-9]{5}\", score=1)\n",
    "numbers_2 = Pattern(name=\"numbers\", regex=\"[0-9]{2}\", score=1)\n",
    "\n",
    "number_pattern = PatternRecognizer(supported_entity=\"NUMBERS\",\n",
    "                                      patterns=[numbers, numbers_2],\n",
    "                                      supported_language='fr')\n",
    "\n",
    "recognizer_regitry = RecognizerRegistry(supported_languages='fr')\n",
    "recognizer_regitry.load_predefined_recognizers()\n",
    "recognizer_regitry.add_recognizer(greet_pattern)\n",
    "recognizer_regitry.add_recognizer(number_pattern)\n",
    "\n",
    "analyzer = AnalyzerEngine(\n",
    "    # registry=recognizer_regitry,\n",
    "    nlp_engine=fr_provider, \n",
    "    supported_languages='fr'\n",
    "    )\n",
    "\n",
    "\n",
    "results = analyzer.analyze(text=textfr, language='fr')\n",
    "anonimyzer = AnonymizerEngine()\n",
    "results = anonimyzer.anonymize(text=textfr,analyzer_results=results)\n",
    "print(textfr)\n",
    "print(results.text)"
   ]
  },
  {
   "cell_type": "code",
   "execution_count": 12,
   "metadata": {},
   "outputs": [
    {
     "name": "stdout",
     "output_type": "stream",
     "text": [
      "Original: Hello, my name is Steve Rogers, 58 I am Captain America from Washington 12349.\n",
      "Anonymized: <GREET>, my name is <PERSON>, <NUMBERS> I am Captain America from <LOCATION> <NUMBERS>.\n",
      "[type: GREET, start: 0, end: 5, score: 1.0, type: NUMBERS, start: 32, end: 34, score: 1, type: NUMBERS, start: 72, end: 77, score: 1, type: PERSON, start: 18, end: 30, score: 0.85, type: DATE_TIME, start: 32, end: 34, score: 0.85, type: LOCATION, start: 61, end: 71, score: 0.85, type: DATE_TIME, start: 72, end: 77, score: 0.85, type: IN_PAN, start: 61, end: 71, score: 0.05]\n"
     ]
    }
   ],
   "source": [
    "from presidio_analyzer import AnalyzerEngine, RecognizerRegistry, PatternRecognizer, Pattern\n",
    "from presidio_analyzer.nlp_engine import NlpEngineProvider\n",
    "from presidio_anonymizer import AnonymizerEngine\n",
    "\n",
    "# Sample text\n",
    "text_fr = \"Bonjour, je m'appelle 58 Marie Guy à Paris 12349\"\n",
    "text_eng = \"Hello, my name is Steve Rogers, 58 I am Captain America from Washington 12349.\"\n",
    "\n",
    "# NLP engine configuration\n",
    "configuration = {\n",
    "    \"nlp_engine_name\": \"spacy\",\n",
    "    \"models\": [\n",
    "        # {\"lang_code\": \"fr\", \"model_name\": \"fr_core_news_md\"},\n",
    "        {\"lang_code\": \"en\", \"model_name\": \"en_core_web_sm\"},\n",
    "    ],\n",
    "}\n",
    "\n",
    "provider = NlpEngineProvider(nlp_configuration=configuration)\n",
    "fr_provider = provider.create_engine()\n",
    "\n",
    "# Custom recognizers\n",
    "greet_pattern_fr = PatternRecognizer(\n",
    "    supported_entity=\"GREET\",\n",
    "    deny_list=[\"Bonjour\"],\n",
    "    supported_language=\"fr\"\n",
    ")\n",
    "\n",
    "greet_pattern_en = PatternRecognizer(\n",
    "    supported_entity=\"GREET\",\n",
    "    deny_list=[\"Hello\"],\n",
    "    supported_language=\"en\"\n",
    ")\n",
    "\n",
    "\n",
    "numbers_5 = Pattern(name=\"numbers_5\", regex=\"[0-9]{5}\", score=1)\n",
    "numbers_2 = Pattern(name=\"numbers_2\", regex=\"[0-9]{2}\", score=1)\n",
    "\n",
    "number_pattern = PatternRecognizer(\n",
    "    supported_entity=\"NUMBERS\",\n",
    "    patterns=[numbers_5, numbers_2],\n",
    "    supported_language=\"en\"\n",
    ")\n",
    "\n",
    "# Initialize the RecognizerRegistry and load predefined recognizers\n",
    "recognizer_registry = RecognizerRegistry(supported_languages=[\"en\"])\n",
    "recognizer_registry.load_predefined_recognizers()\n",
    "\n",
    "# Add custom recognizers\n",
    "recognizer_registry.add_recognizer(greet_pattern_en)\n",
    "recognizer_registry.add_recognizer(number_pattern)\n",
    "\n",
    "# Create AnalyzerEngine with both Spacy NER and custom recognizers\n",
    "analyzer = AnalyzerEngine(\n",
    "    registry=recognizer_registry,\n",
    "    nlp_engine=fr_provider,\n",
    "    supported_languages=[\"en\"]\n",
    ")\n",
    "\n",
    "# Analyze and anonymize\n",
    "results = analyzer.analyze(text=text_eng, language=\"en\")\n",
    "anonymizer = AnonymizerEngine()\n",
    "anonymized_text = anonymizer.anonymize(text=text_eng, analyzer_results=results)\n",
    "\n",
    "# Output\n",
    "print(\"Original:\", text_eng)\n",
    "print(\"Anonymized:\", anonymized_text.text)\n",
    "print(results)"
   ]
  },
  {
   "cell_type": "code",
   "execution_count": 5,
   "metadata": {},
   "outputs": [
    {
     "data": {
      "text/plain": [
       "['fr', 'en']"
      ]
     },
     "execution_count": 5,
     "metadata": {},
     "output_type": "execute_result"
    }
   ],
   "source": [
    "analyzer.supported_languages"
   ]
  },
  {
   "cell_type": "code",
   "execution_count": null,
   "metadata": {},
   "outputs": [],
   "source": [
    "a"
   ]
  }
 ],
 "metadata": {
  "kernelspec": {
   "display_name": "Python 3",
   "language": "python",
   "name": "python3"
  },
  "language_info": {
   "codemirror_mode": {
    "name": "ipython",
    "version": 3
   },
   "file_extension": ".py",
   "mimetype": "text/x-python",
   "name": "python",
   "nbconvert_exporter": "python",
   "pygments_lexer": "ipython3",
   "version": "3.12.8"
  }
 },
 "nbformat": 4,
 "nbformat_minor": 2
}
