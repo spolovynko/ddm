{
 "cells": [
  {
   "cell_type": "code",
   "execution_count": 1,
   "metadata": {},
   "outputs": [],
   "source": [
    "from typing import List"
   ]
  },
  {
   "cell_type": "code",
   "execution_count": null,
   "metadata": {},
   "outputs": [
    {
     "data": {
      "text/plain": [
       "[type: GREET, start: 0, end: 5, score: 1.0,\n",
       " type: PERSON, start: 16, end: 30, score: 0.85]"
      ]
     },
     "execution_count": 17,
     "metadata": {},
     "output_type": "execute_result"
    }
   ],
   "source": [
    "from presidio_analyzer import AnalyzerEngine, RecognizerRegistry, PatternRecognizer, PatternRecognizer, Pattern\n",
    "\n",
    "text = 'Hello my friend John Robertson'\n",
    "\n",
    "greet_pattern = PatternRecognizer(supported_entity=\"GREET\",\n",
    "                                      deny_list=[\"Hello\"])\n",
    "recognizer_regitry = RecognizerRegistry()\n",
    "recognizer_regitry.load_predefined_recognizers()\n",
    "recognizer_regitry.add_recognizer(greet_pattern)\n",
    "analyzer = AnalyzerEngine(registry=recognizer_regitry)\n",
    "\n",
    "results = analyzer.analyze(text=text, language='en')\n",
    "results"
   ]
  },
  {
   "cell_type": "code",
   "execution_count": 18,
   "metadata": {},
   "outputs": [
    {
     "data": {
      "text/plain": [
       "[type: GREET, start: 0, end: 5, score: 1.0,\n",
       " type: PERSON, start: 16, end: 30, score: 0.85]"
      ]
     },
     "execution_count": 18,
     "metadata": {},
     "output_type": "execute_result"
    }
   ],
   "source": [
    "from presidio_analyzer import AnalyzerEngine, RecognizerRegistry, PatternRecognizer\n",
    "\n",
    "text = 'Hello my friend John Robertson'\n",
    "\n",
    "greet_pattern = PatternRecognizer(supported_entity=\"GREET\",\n",
    "                                      deny_list=[\"Hello\"])\n",
    "# recognizer_regitry = RecognizerRegistry()\n",
    "# recognizer_regitry.load_predefined_recognizers()\n",
    "# recognizer_regitry.add_recognizer(greet_pattern)\n",
    "# analyzer = AnalyzerEngine(registry=recognizer_regitry)\n",
    "analyzer = AnalyzerEngine()\n",
    "analyzer.registry.add_recognizer(greet_pattern)\n",
    "results = analyzer.analyze(text=text, language='en')\n",
    "results"
   ]
  },
  {
   "cell_type": "code",
   "execution_count": null,
   "metadata": {},
   "outputs": [],
   "source": []
  }
 ],
 "metadata": {
  "kernelspec": {
   "display_name": "Python 3",
   "language": "python",
   "name": "python3"
  },
  "language_info": {
   "codemirror_mode": {
    "name": "ipython",
    "version": 3
   },
   "file_extension": ".py",
   "mimetype": "text/x-python",
   "name": "python",
   "nbconvert_exporter": "python",
   "pygments_lexer": "ipython3",
   "version": "3.12.8"
  }
 },
 "nbformat": 4,
 "nbformat_minor": 2
}
